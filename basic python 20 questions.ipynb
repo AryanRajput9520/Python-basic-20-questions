{
 "cells": [
  {
   "cell_type": "markdown",
   "id": "b1c2c3e1-e664-4bd1-a912-f3df74aef261",
   "metadata": {},
   "source": [
    "# 1. What is python?\n"
   ]
  },
  {
   "cell_type": "code",
   "execution_count": null,
   "id": "5ecdb129-c459-4d7e-846a-29c5c9b380cd",
   "metadata": {},
   "outputs": [],
   "source": [
    "Python is a simple and easy to understand computer language that people use to talk to computers and tell them what to do. It is a high level programming language."
   ]
  },
  {
   "cell_type": "markdown",
   "id": "705a746f-0ee9-4ae8-988c-85ab48e2c0f2",
   "metadata": {},
   "source": [
    "# 2. Tell me the areas where python is being used?"
   ]
  },
  {
   "cell_type": "code",
   "execution_count": null,
   "id": "f3764cb4-e7b5-41e3-bbb5-bc7189d27dca",
   "metadata": {},
   "outputs": [],
   "source": [
    "- Data science\n",
    "- Data visualization\n",
    "- Machine Learning\n",
    "- AI\n",
    "- Software Development\n",
    "- Web development\n",
    "- Automation and Scripting\n",
    "- Data Analysis"
   ]
  },
  {
   "cell_type": "markdown",
   "id": "65667fd7-2315-455d-9e62-84b1576becc1",
   "metadata": {},
   "source": [
    "# 3. What is high level and low-level language?"
   ]
  },
  {
   "cell_type": "code",
   "execution_count": null,
   "id": "248157b7-6674-49ad-be65-f8d9df0409ea",
   "metadata": {},
   "outputs": [],
   "source": [
    "A High level language is a type  of programming language that is easy for humans to write and read.\n",
    "\n",
    "A Low level languagee is a programming language that is closer to how a compuer works.\n"
   ]
  },
  {
   "cell_type": "markdown",
   "id": "825ba53c-094f-4119-b982-8eba4ad01f0c",
   "metadata": {},
   "source": [
    "# 4. What is interpreted language?"
   ]
  },
  {
   "cell_type": "code",
   "execution_count": null,
   "id": "5207514e-76d2-4621-9879-ba0515e88596",
   "metadata": {},
   "outputs": [],
   "source": [
    "An interpreter language is a programming language that runs its code line by line . "
   ]
  },
  {
   "cell_type": "markdown",
   "id": "e924bdd3-7011-43ec-bae3-07aa34e136f3",
   "metadata": {},
   "source": [
    "# 5. What is compiled language?"
   ]
  },
  {
   "cell_type": "code",
   "execution_count": null,
   "id": "1c057b52-435c-4195-93f4-483eed937c07",
   "metadata": {},
   "outputs": [],
   "source": [
    "An compiler language is a programming language that translates the code in high level programming language into machine code."
   ]
  },
  {
   "cell_type": "markdown",
   "id": "43d0fd90-6fc2-4e5e-8ec9-9e2d83d787f5",
   "metadata": {},
   "source": [
    "# 6. What is statically typed language?"
   ]
  },
  {
   "cell_type": "markdown",
   "id": "14f2defb-df75-4254-a451-b7f880d6252f",
   "metadata": {},
   "source": [
    "A statically typed language is a programming language that checks the types of variable at compile time , rather than at run time.\n",
    "\n",
    "                                                                          OR\n",
    "\n",
    "A statically typed language is a programming language where you have to tell the computer what type of data you're using (like numbers, text, or true/false) before running the program."
   ]
  },
  {
   "cell_type": "markdown",
   "id": "7b9fbdb1-b5a8-482e-902a-88540052994c",
   "metadata": {},
   "source": [
    "# 7. What is dynamically typed language?"
   ]
  },
  {
   "cell_type": "code",
   "execution_count": null,
   "id": "de4cea63-3267-458d-a0f2-6c654344ab71",
   "metadata": {},
   "outputs": [],
   "source": [
    "A programming language that checks the data type of a variable of runtime ,  rather than compiler time"
   ]
  },
  {
   "cell_type": "markdown",
   "id": "ce30fcbf-ef98-4e76-8c89-0077cd37da97",
   "metadata": {},
   "source": [
    "# 8. What is weekly typed?"
   ]
  },
  {
   "cell_type": "code",
   "execution_count": null,
   "id": "66538c14-0d09-45c6-ad32-b8f1e31f2830",
   "metadata": {},
   "outputs": [],
   "source": [
    "A weekly typed language is a programming language that allows implict type conversion or does not enforce strict type checking."
   ]
  },
  {
   "cell_type": "markdown",
   "id": "6bb56d98-7ced-4f4e-bccf-d83a6b29b101",
   "metadata": {},
   "source": [
    "# 9. What is strongly typed language?"
   ]
  },
  {
   "cell_type": "code",
   "execution_count": null,
   "id": "49acf957-bf51-490e-8184-dd963ff724a9",
   "metadata": {},
   "outputs": [],
   "source": [
    "A strongly typed language is a programming language that does not allow mixing different data types without an explicit conversion."
   ]
  },
  {
   "cell_type": "markdown",
   "id": "be09f401-b6cb-4cbb-ba37-cf2f14cdc877",
   "metadata": {},
   "source": [
    "# 10. What is .PYC file (Byte code)?"
   ]
  },
  {
   "cell_type": "code",
   "execution_count": null,
   "id": "54062a19-fea9-42ab-8501-8f4442e82217",
   "metadata": {},
   "outputs": [],
   "source": [
    "A .PYC file is a compile python file that contains byte code , which is an intermediate form of code that's executed by the python interpreter.\n",
    "                                                               \n",
    "                                                               OR\n",
    "\n",
    "A .pyc file is a Python file that has been turned into bytecode, which is a simpler form of your code that the computer can run faster."
   ]
  },
  {
   "cell_type": "markdown",
   "id": "8d344652-53a9-47d5-8666-e86b10cca9f8",
   "metadata": {},
   "source": [
    "# 11. What is PVM?"
   ]
  },
  {
   "cell_type": "code",
   "execution_count": null,
   "id": "d926eb50-7a77-424f-b50f-1bbc6a51c02d",
   "metadata": {},
   "outputs": [],
   "source": [
    "The Python Virtual Machine (PVM) is the runtime environment that executes python byte code (.pyc files)."
   ]
  },
  {
   "cell_type": "markdown",
   "id": "b07bee7d-9166-4a37-bf9d-59c8e4dea1f1",
   "metadata": {},
   "source": [
    "# 12. How Python internally works?"
   ]
  },
  {
   "cell_type": "code",
   "execution_count": null,
   "id": "176b9187-518d-4d58-971f-420c342af179",
   "metadata": {},
   "outputs": [],
   "source": [
    "1. Write code : You write Python code.\n",
    "2. Interpret and execute : Python interprets and executes your code, line-by-line.\n",
    "3. Runs on a virtual machine : The code runs on a virtual machine that manages memory and execution."
   ]
  },
  {
   "cell_type": "markdown",
   "id": "a4b239b2-563f-4785-8ecb-4b332086ad91",
   "metadata": {},
   "source": [
    "# 13. What is PEP 8?"
   ]
  },
  {
   "cell_type": "code",
   "execution_count": null,
   "id": "81f43fdc-369b-47e8-862c-d9bf48e8bc57",
   "metadata": {},
   "outputs": [],
   "source": [
    "PEP 8 is a set of guidelines for writing clean, readable, and consistent Python code. It's like a style guide for Python developers."
   ]
  },
  {
   "cell_type": "markdown",
   "id": "ad2928c0-1e62-47dd-b2b7-91c11d30cfa5",
   "metadata": {},
   "source": [
    "# 14. What is PIP what is the use of PIP?"
   ]
  },
  {
   "cell_type": "code",
   "execution_count": null,
   "id": "997dcdf3-e5cd-4edb-ac50-c7513d3e6b4c",
   "metadata": {},
   "outputs": [],
   "source": [
    "PIP is the package installer for python. It is atool that allows you to easily install , update and manage package(libraries) for your python projects.\n",
    "\n",
    "It is the tool used to install python package from the inernet."
   ]
  },
  {
   "cell_type": "markdown",
   "id": "47927bd5-134a-4432-b464-3ecbbf5e2d8e",
   "metadata": {},
   "source": [
    "# 15. What is Byte code and when is it created?"
   ]
  },
  {
   "cell_type": "code",
   "execution_count": null,
   "id": "94ba69e7-630c-4ec7-ac51-cb6bc4e4bdcf",
   "metadata": {},
   "outputs": [],
   "source": [
    "Byte code is a special format of code that a computer can understand and execute faster.\n",
    "\n",
    "Bytecode is created automatically when you run a Python program."
   ]
  },
  {
   "cell_type": "markdown",
   "id": "2ff031f7-bd90-4528-964a-efc1b5680ad8",
   "metadata": {},
   "source": [
    "# 16. What is indentation in python? Does python relay on indentation?"
   ]
  },
  {
   "cell_type": "code",
   "execution_count": null,
   "id": "53077944-5a22-4972-bcc9-6964fce9c4ad",
   "metadata": {},
   "outputs": [],
   "source": [
    "Indentation means leaving spaces at the beginning of a line of code.\n",
    "In Python, indentation is used to show which lines of code belong together — especially inside loops, functions, or conditionals.\n",
    "\n",
    "Yes, Indentation relay on python."
   ]
  },
  {
   "cell_type": "markdown",
   "id": "4070f794-2b7c-460b-95df-29f06049310e",
   "metadata": {},
   "source": [
    "# 17. What is variable?"
   ]
  },
  {
   "cell_type": "code",
   "execution_count": null,
   "id": "1924c38b-234f-4fc6-9f0c-b7bca1100a6e",
   "metadata": {},
   "outputs": [],
   "source": [
    "A varuable is a container , name that stores a value in program.\n",
    "\n",
    "Stores a value that can be anytype - Integer,float,string,list etc.\n",
    "            variable like - name....................."
   ]
  },
  {
   "cell_type": "markdown",
   "id": "d4450b7a-ad36-4f1a-9dc7-081f818d194d",
   "metadata": {},
   "source": [
    "# 18. What are variable naming rules?"
   ]
  },
  {
   "cell_type": "code",
   "execution_count": null,
   "id": "433c6a1f-6113-4d3b-ad01-e963f24b7f66",
   "metadata": {},
   "outputs": [],
   "source": [
    "- variable names must start with a letter (a-z , A-Z) or an underscore(-).\n",
    "- Python is a case sensitive . so name, and Name would  be considered different variables.\n",
    "- Variables name cannot be the same as python keyword or reserved word. examples . include if, else,for,while,true,false,etc.\n",
    "- for ulti - word variable namees, use underscore to seperate words(snake_case convention). for example , my_variable , total_amount , user_name. "
   ]
  },
  {
   "cell_type": "markdown",
   "id": "280ac55e-5f12-4219-ad08-28b1fbd1d02c",
   "metadata": {},
   "source": [
    "# 19. What is datatype and name of datatypes?"
   ]
  },
  {
   "cell_type": "code",
   "execution_count": null,
   "id": "77e57d41-4b60-44c9-ab7c-a7f67a902826",
   "metadata": {},
   "outputs": [],
   "source": [
    "It defines what type of information the variable can hold.\n",
    "\n",
    "names of datatypes - None\n",
    "                   - int\n",
    "                   - float\n",
    "                   - str\n",
    "                   - bool\n",
    "                   - list\n",
    "                   - tuple\n",
    "                   - dict.\n",
    "                   - set"
   ]
  },
  {
   "cell_type": "markdown",
   "id": "de728aef-7b3e-49b1-903b-30a4a1a148c5",
   "metadata": {},
   "source": [
    "# 20. What is keyword in Python?"
   ]
  },
  {
   "cell_type": "code",
   "execution_count": null,
   "id": "1f86bd74-cb1c-4d92-bf77-07fcaed0628c",
   "metadata": {},
   "outputs": [],
   "source": [
    "Keywords are pre defined meaning in python."
   ]
  },
  {
   "cell_type": "code",
   "execution_count": null,
   "id": "4f0f1cd1-d596-42e1-9593-a1193ea26317",
   "metadata": {},
   "outputs": [],
   "source": []
  }
 ],
 "metadata": {
  "kernelspec": {
   "display_name": "Python 3 (ipykernel)",
   "language": "python",
   "name": "python3"
  },
  "language_info": {
   "codemirror_mode": {
    "name": "ipython",
    "version": 3
   },
   "file_extension": ".py",
   "mimetype": "text/x-python",
   "name": "python",
   "nbconvert_exporter": "python",
   "pygments_lexer": "ipython3",
   "version": "3.12.7"
  }
 },
 "nbformat": 4,
 "nbformat_minor": 5
}
